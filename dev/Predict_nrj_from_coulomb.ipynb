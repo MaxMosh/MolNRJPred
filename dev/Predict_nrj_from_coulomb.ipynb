{
 "cells": [
  {
   "cell_type": "markdown",
   "id": "f669f9a2",
   "metadata": {},
   "source": [
    "# Prediction of the energy with Coulomb matrices"
   ]
  },
  {
   "cell_type": "code",
   "execution_count": 1,
   "id": "b130d261",
   "metadata": {},
   "outputs": [],
   "source": [
    "# !pip install ase\n",
    "# !pip install dscribe\n",
    "from ase.build import molecule\n",
    "from dscribe.descriptors import CoulombMatrix\n",
    "from ase.io import read\n",
    "import os\n",
    "import pandas as pd"
   ]
  },
  {
   "cell_type": "code",
   "execution_count": 2,
   "id": "10d285c4",
   "metadata": {},
   "outputs": [],
   "source": [
    "path_to_test = '../data/atoms/test'\n",
    "path_to_train = '../data/atoms/train'"
   ]
  },
  {
   "cell_type": "code",
   "execution_count": 9,
   "id": "21b0d1dc",
   "metadata": {},
   "outputs": [],
   "source": [
    "# Read all the atoms files in the test directory\n",
    "test_files = [os.path.join(path_to_test, f) for f in os.listdir(path_to_test) if f.endswith('.xyz')]\n",
    "# Read all the atoms files in the train directory\n",
    "train_files = [os.path.join(path_to_train, f) for f in os.listdir(path_to_train) if f.endswith('.xyz')]\n",
    "# Read the atoms objects\n",
    "test_atoms = [read(f) for f in test_files]\n",
    "train_atoms = [read(f) for f in train_files]\n",
    "# Create a DataFrame for test atoms\n",
    "test_df = pd.DataFrame({\n",
    "    'file': test_files,\n",
    "    'atoms': test_atoms\n",
    "})\n",
    "# Create a DataFrame for train atoms\n",
    "train_df = pd.DataFrame({\n",
    "    'file': train_files,\n",
    "    'atoms': train_atoms\n",
    "})"
   ]
  },
  {
   "cell_type": "code",
   "execution_count": 10,
   "id": "25b89ce3",
   "metadata": {},
   "outputs": [
    {
     "name": "stdout",
     "output_type": "stream",
     "text": [
      "                             file  \\\n",
      "0  ../data/atoms/test/id_7475.xyz   \n",
      "1  ../data/atoms/test/id_8126.xyz   \n",
      "2  ../data/atoms/test/id_6986.xyz   \n",
      "3  ../data/atoms/test/id_7252.xyz   \n",
      "4  ../data/atoms/test/id_7830.xyz   \n",
      "\n",
      "                                               atoms  \\\n",
      "0  (Atom('C', [1.361622, 2.59097, 1.656713], inde...   \n",
      "1  (Atom('C', [-1.401807, 1.300455, 1.370504], in...   \n",
      "2  (Atom('N', [-1.899187, -0.508295, 0.543062], i...   \n",
      "3  (Atom('C', [-0.839082, -0.01128, 2.179564], in...   \n",
      "4  (Atom('C', [1.228525, 0.356839, -1.70174], ind...   \n",
      "\n",
      "                                      coulomb_matrix  \n",
      "0  [131.27033922447575, 51.885033674108264, 32.56...  \n",
      "1  [146.53662206037504, 49.121422928152725, 40.65...  \n",
      "2  [137.99911848227063, 47.15879348174412, 40.445...  \n",
      "3  [159.24598901252412, 50.72511775792264, 34.887...  \n",
      "4  [151.11817684977424, 43.97989994328557, 31.437...  \n",
      "                              file  \\\n",
      "0   ../data/atoms/train/id_438.xyz   \n",
      "1  ../data/atoms/train/id_4184.xyz   \n",
      "2  ../data/atoms/train/id_3188.xyz   \n",
      "3  ../data/atoms/train/id_2474.xyz   \n",
      "4  ../data/atoms/train/id_5056.xyz   \n",
      "\n",
      "                                               atoms  \\\n",
      "0  (Atom('C', [-1.657367, 0.622253, 1.29429], ind...   \n",
      "1  (Atom('C', [-0.533633, -0.118721, 2.011296], i...   \n",
      "2  (Atom('C', [-0.994168, -2.041154, -0.488546], ...   \n",
      "3  (Atom('C', [-2.022245, 0.907156, -1.281658], i...   \n",
      "4  (Atom('C', [-0.298504, -0.532232, -2.197911], ...   \n",
      "\n",
      "                                      coulomb_matrix  \n",
      "0  [141.56285551960437, 59.38443502267394, 27.881...  \n",
      "1  [147.6455360602945, 48.663048015208794, 41.457...  \n",
      "2  [131.42058974794207, 49.60336442468267, 31.772...  \n",
      "3  [133.79300190295754, 48.61745532835266, 32.874...  \n",
      "4  [147.38504358190696, 50.59103081059396, 33.185...  \n"
     ]
    }
   ],
   "source": [
    "# Compute the Coulomb matrix for each atom in the test set\n",
    "def compute_coulomb_matrix(atoms, nb_max):\n",
    "    cm = CoulombMatrix(\n",
    "        n_atoms_max=nb_max,\n",
    "        permutation=\"eigenspectrum\"\n",
    "    )\n",
    "    matrix = cm.create(atoms)  # Create the Coulomb matrix for the given atoms\n",
    "    # Return the Coulomb matrix\n",
    "    return matrix\n",
    "\n",
    "# Get the maximum number of atoms in the test set\n",
    "nb_max = max(len(atoms) for atoms in test_atoms + train_atoms)\n",
    "\n",
    "# Apply the function to compute Coulomb matrices for test atoms\n",
    "test_df['coulomb_matrix'] = test_df['atoms'].apply(compute_coulomb_matrix, nb_max=nb_max)\n",
    "# Apply the function to compute Coulomb matrices for train atoms\n",
    "train_df['coulomb_matrix'] = train_df['atoms'].apply(compute_coulomb_matrix, nb_max=nb_max)\n",
    "# Save the DataFrames to CSV files\n",
    "test_df.to_csv('../data/atoms/test_coulomb_matrices.csv', index=False)\n",
    "train_df.to_csv('../data/atoms/train_coulomb_matrices.csv', index=False)\n",
    "# Print the first few rows of the test DataFrame\n",
    "print(test_df.head())\n",
    "# Print the first few rows of the train DataFrame\n",
    "print(train_df.head())"
   ]
  },
  {
   "cell_type": "code",
   "execution_count": 11,
   "id": "60e23e1d",
   "metadata": {},
   "outputs": [
    {
     "name": "stdout",
     "output_type": "stream",
     "text": [
      "Size of the Coulomb matrix for the first test atom: (23,)\n",
      "Size of the Coulomb matrix for the first train atom: (23,)\n"
     ]
    }
   ],
   "source": [
    "# Print the size of the Coulomb matrix for the first test atom\n",
    "print(\"Size of the Coulomb matrix for the first test atom:\", test_df['coulomb_matrix'].iloc[0].shape)\n",
    "# Print the size of the Coulomb matrix for the first train atom\n",
    "print(\"Size of the Coulomb matrix for the first train atom:\", train_df['coulomb_matrix'].iloc[0].shape)"
   ]
  },
  {
   "cell_type": "code",
   "execution_count": null,
   "id": "eabf41ba",
   "metadata": {},
   "outputs": [],
   "source": [
    "# from sklearn.ensemble import RandomForestRegressor\n",
    "\n",
    "# model = RandomForestRegressor()\n",
    "# # X_train = list(train_df['coulomb_matrix'])\n",
    "# # X_test = list(test_df['coulomb_matrix'])\n",
    "# # Aplatir les matrices de Coulomb\n",
    "# X_train = [m.flatten() for m in train_df['coulomb_matrix']]\n",
    "# X_test = [m.flatten() for m in test_df['coulomb_matrix']]\n",
    "\n",
    "# # Get y_train from train.csv file /home/n7student/5ModIA/MolNRJPred/data/energies/train.csv\n",
    "# train_energies = pd.read_csv('../data/energies/train.csv')\n",
    "# y_train = train_energies['energy'].values\n",
    "# # Fit the model\n",
    "# model.fit(X_train, y_train)\n",
    "\n",
    "# # Predict on the test set\n",
    "\n",
    "# y_pred = model.predict(X_test)\n",
    "# # Save predictions to a CSV file - 2 columns: ID and energy\n",
    "# predictions_df = pd.DataFrame({\n",
    "#     'ID': [os.path.basename(f) for f in test_files],\n",
    "#     'energy': y_pred\n",
    "# })\n",
    "# predictions_df.to_csv('predicted_energies_2.csv', index=False)"
   ]
  },
  {
   "cell_type": "code",
   "execution_count": 16,
   "id": "2f4753bf",
   "metadata": {},
   "outputs": [],
   "source": [
    "from sklearn.ensemble import RandomForestRegressor\n",
    "\n",
    "# Aplatir les matrices de Coulomb\n",
    "X_train = [m.flatten() for m in train_df['coulomb_matrix']]\n",
    "X_test = [m.flatten() for m in test_df['coulomb_matrix']]\n",
    "\n",
    "# Extraire les IDs à partir des noms de fichiers\n",
    "# Forcer les deux colonnes à être de type string\n",
    "train_df['ID'] = train_df['file'].apply(lambda x: os.path.splitext(os.path.basename(x))[0].replace(\"id_\", \"\"))\n",
    "train_energies = pd.read_csv('../data/energies/train.csv')\n",
    "train_energies['id'] = train_energies['id'].astype(str)\n",
    "\n",
    "# Renommer la colonne 'id' en 'ID' pour la fusion\n",
    "train_energies.rename(columns={'id': 'ID'}, inplace=True)\n",
    "\n",
    "# Fusionner correctement\n",
    "train_df = train_df.merge(train_energies, on='ID')\n",
    "\n",
    "# Extraire y_train\n",
    "y_train = train_df['energy'].values\n",
    "\n",
    "\n",
    "# Entraîner le modèle\n",
    "model = RandomForestRegressor()\n",
    "model.fit(X_train, y_train)\n",
    "\n",
    "# Prédictions sur le test set\n",
    "y_pred = model.predict(X_test)\n",
    "\n",
    "predictions_df = pd.DataFrame({\n",
    "    'ID': [os.path.splitext(os.path.basename(f))[0].replace(\"id_\", \"\") for f in test_files],\n",
    "    'energy': y_pred\n",
    "})\n",
    "predictions_df.to_csv('../data/energies/predicted_energies.csv', index=False)\n"
   ]
  },
  {
   "cell_type": "code",
   "execution_count": 17,
   "id": "e892bd8a",
   "metadata": {},
   "outputs": [],
   "source": [
    "# Change the ID column to match the format of the train.csv file\n",
    "predictions_df['ID'] = predictions_df['ID'].str.replace('.xyz', '', regex=False)\n",
    "# Remove \"ID_\"\n",
    "predictions_df['ID'] = predictions_df['ID'].str.replace('id_', '', regex=False)\n",
    "# Save the predictions with the correct ID format\n",
    "predictions_df.to_csv('predicted_energies_eigen.csv', index=False)"
   ]
  }
 ],
 "metadata": {
  "kernelspec": {
   "display_name": "optim",
   "language": "python",
   "name": "python3"
  },
  "language_info": {
   "codemirror_mode": {
    "name": "ipython",
    "version": 3
   },
   "file_extension": ".py",
   "mimetype": "text/x-python",
   "name": "python",
   "nbconvert_exporter": "python",
   "pygments_lexer": "ipython3",
   "version": "3.10.13"
  }
 },
 "nbformat": 4,
 "nbformat_minor": 5
}
