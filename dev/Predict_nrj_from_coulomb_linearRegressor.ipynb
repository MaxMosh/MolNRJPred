{
 "cells": [
  {
   "cell_type": "markdown",
   "id": "f669f9a2",
   "metadata": {},
   "source": [
    "# Prediction of the energy with Coulomb matrices"
   ]
  },
  {
   "cell_type": "code",
   "execution_count": 18,
   "id": "b130d261",
   "metadata": {},
   "outputs": [],
   "source": [
    "# !pip install ase\n",
    "# !pip install dscribe\n",
    "from ase.build import molecule\n",
    "from dscribe.descriptors import CoulombMatrix\n",
    "from ase.io import read\n",
    "import os\n",
    "import pandas as pd\n",
    "from sklearn.ensemble import RandomForestRegressor\n",
    "from xgboost import XGBRegressor\n",
    "import os\n",
    "import numpy as np\n",
    "from xgboost import XGBRegressor\n",
    "from sklearn.model_selection import RandomizedSearchCV\n",
    "from sklearn.metrics import make_scorer, mean_squared_error\n",
    "#import linear model\n",
    "from sklearn.linear_model import LinearRegression"
   ]
  },
  {
   "cell_type": "code",
   "execution_count": 19,
   "id": "10d285c4",
   "metadata": {},
   "outputs": [],
   "source": [
    "path_to_test = '../data/atoms/test'\n",
    "path_to_train = '../data/atoms/train'"
   ]
  },
  {
   "cell_type": "code",
   "execution_count": 20,
   "id": "21b0d1dc",
   "metadata": {},
   "outputs": [],
   "source": [
    "# Read all the atoms files in the test directory\n",
    "test_files = [os.path.join(path_to_test, f) for f in os.listdir(path_to_test) if f.endswith('.xyz')]\n",
    "# Read all the atoms files in the train directory\n",
    "train_files = [os.path.join(path_to_train, f) for f in os.listdir(path_to_train) if f.endswith('.xyz')]\n",
    "# Read the atoms objects\n",
    "test_atoms = [read(f) for f in test_files]\n",
    "train_atoms = [read(f) for f in train_files]\n",
    "# Create a DataFrame for test atoms\n",
    "test_df = pd.DataFrame({\n",
    "    'file': test_files,\n",
    "    'atoms': test_atoms\n",
    "})\n",
    "# Create a DataFrame for train atoms\n",
    "train_df = pd.DataFrame({\n",
    "    'file': train_files,\n",
    "    'atoms': train_atoms\n",
    "})"
   ]
  },
  {
   "cell_type": "code",
   "execution_count": 22,
   "id": "25b89ce3",
   "metadata": {},
   "outputs": [
    {
     "name": "stdout",
     "output_type": "stream",
     "text": [
      "                             file  \\\n",
      "0  ../data/atoms/test/id_7475.xyz   \n",
      "1  ../data/atoms/test/id_8126.xyz   \n",
      "2  ../data/atoms/test/id_6986.xyz   \n",
      "3  ../data/atoms/test/id_7252.xyz   \n",
      "4  ../data/atoms/test/id_7830.xyz   \n",
      "\n",
      "                                               atoms  \\\n",
      "0  (Atom('C', [1.361622, 2.59097, 1.656713], inde...   \n",
      "1  (Atom('C', [-1.401807, 1.300455, 1.370504], in...   \n",
      "2  (Atom('N', [-1.899187, -0.508295, 0.543062], i...   \n",
      "3  (Atom('C', [-0.839082, -0.01128, 2.179564], in...   \n",
      "4  (Atom('C', [1.228525, 0.356839, -1.70174], ind...   \n",
      "\n",
      "                                      coulomb_matrix  \n",
      "0  [36.85810519942594, 23.71796061787803, 14.2611...  \n",
      "1  [53.3587073998281, 28.550156641732208, 28.7658...  \n",
      "2  [53.3587073998281, 13.045690459915974, 28.3082...  \n",
      "3  [53.3587073998281, 20.719548024459403, 30.4262...  \n",
      "4  [73.51669471981023, 33.42958695343809, 33.6380...  \n",
      "                              file  \\\n",
      "0   ../data/atoms/train/id_438.xyz   \n",
      "1  ../data/atoms/train/id_4184.xyz   \n",
      "2  ../data/atoms/train/id_3188.xyz   \n",
      "3  ../data/atoms/train/id_2474.xyz   \n",
      "4  ../data/atoms/train/id_5056.xyz   \n",
      "\n",
      "                                               atoms  \\\n",
      "0  (Atom('C', [-1.657367, 0.622253, 1.29429], ind...   \n",
      "1  (Atom('C', [-0.533633, -0.118721, 2.011296], i...   \n",
      "2  (Atom('C', [-0.994168, -2.041154, -0.488546], ...   \n",
      "3  (Atom('C', [-2.022245, 0.907156, -1.281658], i...   \n",
      "4  (Atom('C', [-0.298504, -0.532232, -2.197911], ...   \n",
      "\n",
      "                                      coulomb_matrix  \n",
      "0  [73.51669471981023, 19.785116462677838, 33.754...  \n",
      "1  [53.3587073998281, 28.685955122387558, 28.6899...  \n",
      "2  [53.3587073998281, 17.02567831451227, 28.53591...  \n",
      "3  [36.85810519942594, 23.72322246002286, 23.7569...  \n",
      "4  [53.3587073998281, 28.17892623785442, 19.39024...  \n"
     ]
    }
   ],
   "source": [
    "# Compute the Coulomb matrix for each atom in the test set\n",
    "def compute_coulomb_matrix(atoms, nb_max):\n",
    "    cm = CoulombMatrix(\n",
    "        n_atoms_max=nb_max,\n",
    "        permutation=\"random\",\n",
    "        sigma=0.1,\n",
    "    )\n",
    "    matrix = cm.create(atoms)  # Create the Coulomb matrix for the given atoms\n",
    "    return matrix\n",
    "\n",
    "# Get the maximum number of atoms in the test set\n",
    "nb_max = max(len(atoms) for atoms in test_atoms + train_atoms)\n",
    "\n",
    "# Apply the function to compute Coulomb matrices for test atoms\n",
    "test_df['coulomb_matrix'] = test_df['atoms'].apply(compute_coulomb_matrix, nb_max=nb_max)\n",
    "# Apply the function to compute Coulomb matrices for train atoms\n",
    "train_df['coulomb_matrix'] = train_df['atoms'].apply(compute_coulomb_matrix, nb_max=nb_max)\n",
    "# Save the DataFrames to CSV files\n",
    "test_df.to_csv('../data/atoms/test_coulomb_matrices.csv', index=False)\n",
    "train_df.to_csv('../data/atoms/train_coulomb_matrices.csv', index=False)\n",
    "# Print the first few rows of the test DataFrame\n",
    "print(test_df.head())\n",
    "# Print the first few rows of the train DataFrame\n",
    "print(train_df.head())"
   ]
  },
  {
   "cell_type": "code",
   "execution_count": 23,
   "id": "2f4753bf",
   "metadata": {},
   "outputs": [],
   "source": [
    "# Aplatir les matrices de Coulomb\n",
    "X_train = [m.flatten() for m in train_df['coulomb_matrix']]\n",
    "X_test = [m.flatten() for m in test_df['coulomb_matrix']]\n",
    "\n",
    "# Extraire les IDs à partir des noms de fichiers\n",
    "# Forcer les deux colonnes à être de type string\n",
    "train_df['ID'] = train_df['file'].apply(lambda x: os.path.splitext(os.path.basename(x))[0].replace(\"id_\", \"\"))\n",
    "train_energies = pd.read_csv('../data/energies/train.csv')\n",
    "train_energies['id'] = train_energies['id'].astype(str)\n",
    "\n",
    "# Renommer la colonne 'id' en 'ID' pour la fusion\n",
    "train_energies.rename(columns={'id': 'ID'}, inplace=True)\n",
    "\n",
    "# Fusionner correctement\n",
    "train_df = train_df.merge(train_energies, on='ID')\n",
    "\n",
    "# Extraire y_train\n",
    "y_train = train_df['energy'].values"
   ]
  },
  {
   "cell_type": "code",
   "execution_count": 24,
   "id": "c5d9125f",
   "metadata": {},
   "outputs": [
    {
     "name": "stdout",
     "output_type": "stream",
     "text": [
      "RMSE on training set: 1.4256911894373376\n"
     ]
    }
   ],
   "source": [
    "# Regression linéaire\n",
    "linear_model = LinearRegression()\n",
    "linear_model.fit(X_train, y_train)\n",
    "\n",
    "# Prédictions sur le jeu de train\n",
    "y_train_pred = linear_model.predict(X_train)\n",
    "\n",
    "#Print la RMSE sur le jeu de train\n",
    "train_rmse = np.sqrt(mean_squared_error(y_train, y_train_pred))\n",
    "print(f\"RMSE on training set: {train_rmse}\")\n",
    "\n",
    "# Prédictions sur le jeu de test\n",
    "y_test_pred = linear_model.predict(X_test)\n",
    "\n",
    "predictions_df = pd.DataFrame({\n",
    "    'ID': [os.path.splitext(os.path.basename(f))[0].replace(\"id_\", \"\") for f in test_files],\n",
    "    'energy': y_test_pred\n",
    "})\n",
    "predictions_df.to_csv('../results/predicted_energies_coulomblinear_random.csv', index=False)"
   ]
  }
 ],
 "metadata": {
  "kernelspec": {
   "display_name": "optim",
   "language": "python",
   "name": "python3"
  },
  "language_info": {
   "codemirror_mode": {
    "name": "ipython",
    "version": 3
   },
   "file_extension": ".py",
   "mimetype": "text/x-python",
   "name": "python",
   "nbconvert_exporter": "python",
   "pygments_lexer": "ipython3",
   "version": "3.10.13"
  }
 },
 "nbformat": 4,
 "nbformat_minor": 5
}
