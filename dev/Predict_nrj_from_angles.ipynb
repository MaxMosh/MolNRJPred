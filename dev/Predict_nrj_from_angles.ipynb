{
 "cells": [
  {
   "cell_type": "markdown",
   "id": "49a8ba26",
   "metadata": {},
   "source": [
    "# Prédiction de l'énergie à partir des angles entre les atomes."
   ]
  },
  {
   "cell_type": "code",
   "execution_count": 31,
   "id": "46cd6d3f",
   "metadata": {},
   "outputs": [],
   "source": [
    "from ase.io import read\n",
    "import os\n",
    "import pandas as pd\n",
    "import numpy as np\n",
    "from ase.io import read\n",
    "from itertools import combinations\n",
    "from sklearn.ensemble import RandomForestRegressor\n",
    "from sklearn.metrics import mean_absolute_error\n",
    "from itertools import combinations\n",
    "\n",
    "# Path to the molecule files\n",
    "path_to_test = \"../data/atoms/test\"\n",
    "path_to_train = \"../data/atoms/train\"\n"
   ]
  },
  {
   "cell_type": "code",
   "execution_count": 32,
   "id": "96aca16b",
   "metadata": {},
   "outputs": [],
   "source": [
    "# Read all the atoms files in the test directory\n",
    "test_files = [os.path.join(path_to_test, f) for f in os.listdir(path_to_test) if f.endswith('.xyz')]\n",
    "# Read all the atoms files in the train directory\n",
    "train_files = [os.path.join(path_to_train, f) for f in os.listdir(path_to_train) if f.endswith('.xyz')]\n",
    "# Read the atoms objects\n",
    "test_atoms = [read(f) for f in test_files]\n",
    "train_atoms = [read(f) for f in train_files]\n",
    "# Create a DataFrame for test atoms\n",
    "test_df = pd.DataFrame({\n",
    "    'file': test_files,\n",
    "    'atoms': test_atoms\n",
    "})\n",
    "# Create a DataFrame for train atoms\n",
    "train_df = pd.DataFrame({\n",
    "    'file': train_files,\n",
    "    'atoms': train_atoms\n",
    "})"
   ]
  },
  {
   "cell_type": "code",
   "execution_count": 40,
   "id": "8dc57e2f",
   "metadata": {},
   "outputs": [],
   "source": [
    "def angle_between(a, b, c):\n",
    "    \"\"\"Calcule l'angle ABC (en degrés) entre trois positions atomiques a-b-c.\"\"\"\n",
    "    ba = a - b\n",
    "    bc = c - b\n",
    "    cos_angle = np.dot(ba, bc) / (np.linalg.norm(ba) * np.linalg.norm(bc))\n",
    "    angle_rad = np.arccos(np.clip(cos_angle, -1.0, 1.0))\n",
    "    return np.degrees(angle_rad)\n",
    "\n",
    "\n",
    "# def extract_angles(atoms):\n",
    "#     angles = []\n",
    "#     pos = atoms.get_positions()\n",
    "#     num_atoms = len(atoms)\n",
    "\n",
    "#     # On parcourt tous les triplets (i, j, k) pour former des angles i-j-k\n",
    "#     for i, j, k in combinations(range(num_atoms), 3):\n",
    "#         angle = angle_between(pos[i], pos[j], pos[k])\n",
    "#         angles.append(angle)\n",
    "#     return np.array(angles)\n",
    "\n",
    "from ase.neighborlist import NeighborList\n",
    "\n",
    "def get_local_angles(atoms, cutoff=3.5):\n",
    "    positions = atoms.get_positions()\n",
    "    n_atoms = len(atoms)\n",
    "    cutoffs = [cutoff] * n_atoms\n",
    "\n",
    "    nl = NeighborList(cutoffs, self_interaction=False, bothways=True)\n",
    "    nl.update(atoms)\n",
    "\n",
    "    angles = []\n",
    "\n",
    "    for j in range(n_atoms):  # atome central\n",
    "        neighbors = nl.get_neighbors(j)[0]\n",
    "        for i in range(len(neighbors)):\n",
    "            for k in range(i+1, len(neighbors)):\n",
    "                a = positions[neighbors[i]]\n",
    "                b = positions[j]\n",
    "                c = positions[neighbors[k]]\n",
    "                angle = angle_between(a, b, c)\n",
    "                angles.append(angle)\n",
    "    return np.array(angles)\n",
    "\n",
    "def get_angle_features(atoms):\n",
    "    angles = get_local_angles(atoms)\n",
    "    if len(angles) == 0:\n",
    "        return np.zeros(4)\n",
    "    return np.array([\n",
    "        np.mean(angles),\n",
    "        np.std(angles),\n",
    "        np.min(angles),\n",
    "        np.max(angles)\n",
    "    ])"
   ]
  },
  {
   "cell_type": "code",
   "execution_count": 41,
   "id": "d7943ae9",
   "metadata": {},
   "outputs": [
    {
     "name": "stdout",
     "output_type": "stream",
     "text": [
      "                              file  \\\n",
      "0   ../data/atoms/train/id_438.xyz   \n",
      "1  ../data/atoms/train/id_4184.xyz   \n",
      "2  ../data/atoms/train/id_3188.xyz   \n",
      "3  ../data/atoms/train/id_2474.xyz   \n",
      "4  ../data/atoms/train/id_5056.xyz   \n",
      "\n",
      "                                               atoms    ID  id_x  \\\n",
      "0  (Atom('C', [-1.657367, 0.622253, 1.29429], ind...   438   438   \n",
      "1  (Atom('C', [-0.533633, -0.118721, 2.011296], i...  4184  4184   \n",
      "2  (Atom('C', [-0.994168, -2.041154, -0.488546], ...  3188  3188   \n",
      "3  (Atom('C', [-2.022245, 0.907156, -1.281658], i...  2474  2474   \n",
      "4  (Atom('C', [-0.298504, -0.532232, -2.197911], ...  5056  5056   \n",
      "\n",
      "                                            features  id_y     energy  \n",
      "0  [58.80754767988597, 32.612595519313764, 1.9475...   438 -74.930323  \n",
      "1  [61.87483630008167, 37.90891735156741, 1.01143...  4184 -70.779999  \n",
      "2  [58.88943676716564, 36.06149113249634, 3.52061...  3188 -69.265664  \n",
      "3  [64.55216174112691, 35.59530642879029, 0.58980...  2474 -97.212364  \n",
      "4  [62.96390921896071, 36.07995802976746, 1.38835...  5056 -83.956232  \n"
     ]
    }
   ],
   "source": [
    "# Avant la fusion, supprime la colonne 'energy' de train_df si elle existe\n",
    "if 'energy' in train_df.columns:\n",
    "    train_df = train_df.drop(columns=['energy'])\n",
    "\n",
    "# Charger les énergies depuis le CSV officiel\n",
    "train_energies = pd.read_csv('../data/energies/train.csv')\n",
    "train_energies['id'] = train_energies['id'].astype(str)\n",
    "\n",
    "# Extraire l'ID à partir du nom de fichier\n",
    "train_df['ID'] = train_df['file'].apply(lambda x: os.path.splitext(os.path.basename(x))[0].replace('id_', ''))\n",
    "\n",
    "# Fusionner les features avec les énergies\n",
    "train_df = train_df.merge(train_energies, left_on='ID', right_on='id')\n",
    "\n",
    "print(train_df.head())"
   ]
  },
  {
   "cell_type": "code",
   "execution_count": 42,
   "id": "910538a7",
   "metadata": {},
   "outputs": [],
   "source": [
    "train_df['features'] = train_df['atoms'].apply(get_angle_features)\n",
    "test_df['features'] = test_df['atoms'].apply(get_angle_features)\n",
    "\n",
    "X_train = np.vstack(train_df['features'].values)\n",
    "y_train = train_df['energy'].values\n",
    "\n",
    "X_test = np.vstack(test_df['features'].values)\n",
    "# y_test n'est pas utilisé pour la prédiction"
   ]
  },
  {
   "cell_type": "code",
   "execution_count": 43,
   "id": "b339609c",
   "metadata": {},
   "outputs": [],
   "source": [
    "model = RandomForestRegressor(n_estimators=100, random_state=42)\n",
    "model.fit(X_train, y_train)\n",
    "\n",
    "y_pred = model.predict(X_test)"
   ]
  },
  {
   "cell_type": "code",
   "execution_count": 44,
   "id": "d147f933",
   "metadata": {},
   "outputs": [
    {
     "name": "stdout",
     "output_type": "stream",
     "text": [
      "[-97.19878286 -86.56834952 -85.21795504 ... -78.3627811  -68.66495994\n",
      " -80.86416366]\n"
     ]
    }
   ],
   "source": [
    "print(y_pred)"
   ]
  },
  {
   "cell_type": "code",
   "execution_count": 45,
   "id": "9efd0eeb",
   "metadata": {},
   "outputs": [],
   "source": [
    "predictions_df = pd.DataFrame({\n",
    "    'id': [os.path.splitext(os.path.basename(f))[0].replace(\"id_\", \"\") for f in test_files],\n",
    "    'energy': y_pred\n",
    "})\n",
    "\n",
    "# Sauvegarder en CSV\n",
    "predictions_df.to_csv('../results/predicted_energies_angles.csv', index=False)"
   ]
  },
  {
   "cell_type": "code",
   "execution_count": null,
   "id": "23c5443b",
   "metadata": {},
   "outputs": [],
   "source": []
  }
 ],
 "metadata": {
  "kernelspec": {
   "display_name": "optim",
   "language": "python",
   "name": "python3"
  },
  "language_info": {
   "codemirror_mode": {
    "name": "ipython",
    "version": 3
   },
   "file_extension": ".py",
   "mimetype": "text/x-python",
   "name": "python",
   "nbconvert_exporter": "python",
   "pygments_lexer": "ipython3",
   "version": "3.10.13"
  }
 },
 "nbformat": 4,
 "nbformat_minor": 5
}
